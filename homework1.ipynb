{
 "cells": [
  {
   "cell_type": "markdown",
   "id": "8ee8d263",
   "metadata": {},
   "source": [
    "Homework: \n",
    "1. Given a side of square. Find its perimeter and area. \n",
    "2. Given diameter of circle. Find its length. \n",
    "3. Given two numbers a and b. Find their mean. \n",
    "4. Given two numbers a and b. Find their sum, product and square of each number. lets do that homework by python and i dont know anything in python"
   ]
  },
  {
   "cell_type": "code",
   "execution_count": null,
   "id": "1be46516",
   "metadata": {},
   "outputs": [],
   "source": [
    "side=float(input(\"enter the length of the side\"))\n",
    "perimeter = 4*side\n",
    "area=side*side\n",
    "\n",
    "print(\"Perimeter of the square\", perimeter)\n",
    "PRINT(\"Area of the square\", area)"
   ]
  },
  {
   "cell_type": "code",
   "execution_count": null,
   "id": "9be03e88",
   "metadata": {},
   "outputs": [],
   "source": [
    "side=float(input(\"enter the diametr of the side\"))\n",
    "circle length=diametr*math.pi\n",
    " print(\"circle length\")"
   ]
  },
  {
   "cell_type": "code",
   "execution_count": null,
   "id": "6ce8c8d3",
   "metadata": {},
   "outputs": [],
   "source": [
    "\n",
    "a = float(input(\"Enter first number: \"))\n",
    "b = float(input(\"Enter second number: \"))\n",
    "mean = (a + b) / 2\n",
    "\n",
    "print(\"Mean of the two numbers:\", mean)\n"
   ]
  },
  {
   "cell_type": "code",
   "execution_count": null,
   "id": "e2cc6d6e",
   "metadata": {},
   "outputs": [],
   "source": [
    "a = float(input(\"Enter first number: \"))\n",
    "b = float(input(\"Enter second number: \"))\n",
    "\n",
    "sum_ab = a + b\n",
    "product_ab = a * b\n",
    "square_a = a ** 2\n",
    "square_b = b ** 2\n",
    "\n",
    "print(\"Sum:\", sum_ab)\n",
    "print(\"Product:\", product_ab)\n",
    "print(\"Square of first number:\", square_a)\n",
    "print(\"Square of second number:\", square_b)"
   ]
  }
 ],
 "metadata": {
  "kernelspec": {
   "display_name": "Python 3",
   "language": "python",
   "name": "python3"
  },
  "language_info": {
   "codemirror_mode": {
    "name": "ipython",
    "version": 3
   },
   "file_extension": ".py",
   "mimetype": "text/x-python",
   "name": "python",
   "nbconvert_exporter": "python",
   "pygments_lexer": "ipython3",
   "version": "3.13.7"
  }
 },
 "nbformat": 4,
 "nbformat_minor": 5
}
